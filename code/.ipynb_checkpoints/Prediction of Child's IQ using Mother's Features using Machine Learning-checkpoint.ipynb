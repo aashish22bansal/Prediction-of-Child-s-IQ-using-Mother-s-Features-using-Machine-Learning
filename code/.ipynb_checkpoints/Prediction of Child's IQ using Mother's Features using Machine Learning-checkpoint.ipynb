{
 "cells": [
  {
   "cell_type": "markdown",
   "id": "dcd97897",
   "metadata": {},
   "source": [
    "# Import Libraries"
   ]
  },
  {
   "cell_type": "code",
   "execution_count": 2,
   "id": "c034d923",
   "metadata": {},
   "outputs": [],
   "source": [
    "import numpy as np\n",
    "import pandas as pd\n",
    "import matplotlib.pyplot as plt\n",
    "import seaborn as sns"
   ]
  },
  {
   "cell_type": "markdown",
   "id": "9f310b24",
   "metadata": {},
   "source": [
    "# Filter Warnings"
   ]
  },
  {
   "cell_type": "code",
   "execution_count": 3,
   "id": "54e29a65",
   "metadata": {},
   "outputs": [],
   "source": [
    "import warnings"
   ]
  },
  {
   "cell_type": "code",
   "execution_count": 4,
   "id": "90e353c6",
   "metadata": {},
   "outputs": [],
   "source": [
    "warnings.filterwarnings('ignore')"
   ]
  },
  {
   "cell_type": "markdown",
   "id": "a9bcc516",
   "metadata": {},
   "source": [
    "# Import Dataset"
   ]
  },
  {
   "cell_type": "code",
   "execution_count": 9,
   "id": "7423bd52",
   "metadata": {},
   "outputs": [],
   "source": [
    "kid_iq = pd.read_csv(\"C://Users//aashi//Anaconda Studio//Jupyter//Projects//Prediction-of-Child-s-IQ-using-Mother-s-Features-using-Machine-Learning//dataset//kid_iq.csv\")\n",
    "child_iq = pd.read_csv(\"C://Users//aashi//Anaconda Studio//Jupyter//Projects//Prediction-of-Child-s-IQ-using-Mother-s-Features-using-Machine-Learning//dataset//child_iq.csv\")"
   ]
  },
  {
   "cell_type": "code",
   "execution_count": 10,
   "id": "0cb55497",
   "metadata": {},
   "outputs": [
    {
     "data": {
      "text/html": [
       "<div>\n",
       "<style scoped>\n",
       "    .dataframe tbody tr th:only-of-type {\n",
       "        vertical-align: middle;\n",
       "    }\n",
       "\n",
       "    .dataframe tbody tr th {\n",
       "        vertical-align: top;\n",
       "    }\n",
       "\n",
       "    .dataframe thead th {\n",
       "        text-align: right;\n",
       "    }\n",
       "</style>\n",
       "<table border=\"1\" class=\"dataframe\">\n",
       "  <thead>\n",
       "    <tr style=\"text-align: right;\">\n",
       "      <th></th>\n",
       "      <th>Unnamed: 0</th>\n",
       "      <th>kid_score</th>\n",
       "      <th>mom_hs</th>\n",
       "      <th>mom_iq</th>\n",
       "      <th>mom_work</th>\n",
       "      <th>mom_age</th>\n",
       "    </tr>\n",
       "  </thead>\n",
       "  <tbody>\n",
       "    <tr>\n",
       "      <th>0</th>\n",
       "      <td>1</td>\n",
       "      <td>65</td>\n",
       "      <td>1</td>\n",
       "      <td>121.117529</td>\n",
       "      <td>4</td>\n",
       "      <td>27</td>\n",
       "    </tr>\n",
       "    <tr>\n",
       "      <th>1</th>\n",
       "      <td>2</td>\n",
       "      <td>98</td>\n",
       "      <td>1</td>\n",
       "      <td>89.361882</td>\n",
       "      <td>4</td>\n",
       "      <td>25</td>\n",
       "    </tr>\n",
       "    <tr>\n",
       "      <th>2</th>\n",
       "      <td>3</td>\n",
       "      <td>85</td>\n",
       "      <td>1</td>\n",
       "      <td>115.443165</td>\n",
       "      <td>4</td>\n",
       "      <td>27</td>\n",
       "    </tr>\n",
       "    <tr>\n",
       "      <th>3</th>\n",
       "      <td>4</td>\n",
       "      <td>83</td>\n",
       "      <td>1</td>\n",
       "      <td>99.449639</td>\n",
       "      <td>3</td>\n",
       "      <td>25</td>\n",
       "    </tr>\n",
       "    <tr>\n",
       "      <th>4</th>\n",
       "      <td>5</td>\n",
       "      <td>115</td>\n",
       "      <td>1</td>\n",
       "      <td>92.745710</td>\n",
       "      <td>4</td>\n",
       "      <td>27</td>\n",
       "    </tr>\n",
       "    <tr>\n",
       "      <th>...</th>\n",
       "      <td>...</td>\n",
       "      <td>...</td>\n",
       "      <td>...</td>\n",
       "      <td>...</td>\n",
       "      <td>...</td>\n",
       "      <td>...</td>\n",
       "    </tr>\n",
       "    <tr>\n",
       "      <th>429</th>\n",
       "      <td>430</td>\n",
       "      <td>94</td>\n",
       "      <td>0</td>\n",
       "      <td>84.877412</td>\n",
       "      <td>4</td>\n",
       "      <td>21</td>\n",
       "    </tr>\n",
       "    <tr>\n",
       "      <th>430</th>\n",
       "      <td>431</td>\n",
       "      <td>76</td>\n",
       "      <td>1</td>\n",
       "      <td>92.990392</td>\n",
       "      <td>4</td>\n",
       "      <td>23</td>\n",
       "    </tr>\n",
       "    <tr>\n",
       "      <th>431</th>\n",
       "      <td>432</td>\n",
       "      <td>50</td>\n",
       "      <td>0</td>\n",
       "      <td>94.859708</td>\n",
       "      <td>2</td>\n",
       "      <td>24</td>\n",
       "    </tr>\n",
       "    <tr>\n",
       "      <th>432</th>\n",
       "      <td>433</td>\n",
       "      <td>88</td>\n",
       "      <td>1</td>\n",
       "      <td>96.856624</td>\n",
       "      <td>2</td>\n",
       "      <td>21</td>\n",
       "    </tr>\n",
       "    <tr>\n",
       "      <th>433</th>\n",
       "      <td>434</td>\n",
       "      <td>70</td>\n",
       "      <td>1</td>\n",
       "      <td>91.253336</td>\n",
       "      <td>2</td>\n",
       "      <td>25</td>\n",
       "    </tr>\n",
       "  </tbody>\n",
       "</table>\n",
       "<p>434 rows × 6 columns</p>\n",
       "</div>"
      ],
      "text/plain": [
       "     Unnamed: 0  kid_score  mom_hs      mom_iq  mom_work  mom_age\n",
       "0             1         65       1  121.117529         4       27\n",
       "1             2         98       1   89.361882         4       25\n",
       "2             3         85       1  115.443165         4       27\n",
       "3             4         83       1   99.449639         3       25\n",
       "4             5        115       1   92.745710         4       27\n",
       "..          ...        ...     ...         ...       ...      ...\n",
       "429         430         94       0   84.877412         4       21\n",
       "430         431         76       1   92.990392         4       23\n",
       "431         432         50       0   94.859708         2       24\n",
       "432         433         88       1   96.856624         2       21\n",
       "433         434         70       1   91.253336         2       25\n",
       "\n",
       "[434 rows x 6 columns]"
      ]
     },
     "execution_count": 10,
     "metadata": {},
     "output_type": "execute_result"
    }
   ],
   "source": [
    "kid_iq"
   ]
  },
  {
   "cell_type": "code",
   "execution_count": 11,
   "id": "9e6c30db",
   "metadata": {},
   "outputs": [
    {
     "data": {
      "text/html": [
       "<div>\n",
       "<style scoped>\n",
       "    .dataframe tbody tr th:only-of-type {\n",
       "        vertical-align: middle;\n",
       "    }\n",
       "\n",
       "    .dataframe tbody tr th {\n",
       "        vertical-align: top;\n",
       "    }\n",
       "\n",
       "    .dataframe thead th {\n",
       "        text-align: right;\n",
       "    }\n",
       "</style>\n",
       "<table border=\"1\" class=\"dataframe\">\n",
       "  <thead>\n",
       "    <tr style=\"text-align: right;\">\n",
       "      <th></th>\n",
       "      <th>Unnamed: 0</th>\n",
       "      <th>ppvt</th>\n",
       "      <th>educ_cat</th>\n",
       "      <th>momage</th>\n",
       "    </tr>\n",
       "  </thead>\n",
       "  <tbody>\n",
       "    <tr>\n",
       "      <th>0</th>\n",
       "      <td>1</td>\n",
       "      <td>120</td>\n",
       "      <td>2</td>\n",
       "      <td>21</td>\n",
       "    </tr>\n",
       "    <tr>\n",
       "      <th>1</th>\n",
       "      <td>2</td>\n",
       "      <td>89</td>\n",
       "      <td>1</td>\n",
       "      <td>17</td>\n",
       "    </tr>\n",
       "    <tr>\n",
       "      <th>2</th>\n",
       "      <td>3</td>\n",
       "      <td>78</td>\n",
       "      <td>2</td>\n",
       "      <td>19</td>\n",
       "    </tr>\n",
       "    <tr>\n",
       "      <th>3</th>\n",
       "      <td>4</td>\n",
       "      <td>42</td>\n",
       "      <td>1</td>\n",
       "      <td>20</td>\n",
       "    </tr>\n",
       "    <tr>\n",
       "      <th>4</th>\n",
       "      <td>5</td>\n",
       "      <td>115</td>\n",
       "      <td>4</td>\n",
       "      <td>26</td>\n",
       "    </tr>\n",
       "    <tr>\n",
       "      <th>...</th>\n",
       "      <td>...</td>\n",
       "      <td>...</td>\n",
       "      <td>...</td>\n",
       "      <td>...</td>\n",
       "    </tr>\n",
       "    <tr>\n",
       "      <th>395</th>\n",
       "      <td>396</td>\n",
       "      <td>87</td>\n",
       "      <td>3</td>\n",
       "      <td>21</td>\n",
       "    </tr>\n",
       "    <tr>\n",
       "      <th>396</th>\n",
       "      <td>397</td>\n",
       "      <td>69</td>\n",
       "      <td>2</td>\n",
       "      <td>20</td>\n",
       "    </tr>\n",
       "    <tr>\n",
       "      <th>397</th>\n",
       "      <td>398</td>\n",
       "      <td>80</td>\n",
       "      <td>1</td>\n",
       "      <td>25</td>\n",
       "    </tr>\n",
       "    <tr>\n",
       "      <th>398</th>\n",
       "      <td>399</td>\n",
       "      <td>98</td>\n",
       "      <td>1</td>\n",
       "      <td>18</td>\n",
       "    </tr>\n",
       "    <tr>\n",
       "      <th>399</th>\n",
       "      <td>400</td>\n",
       "      <td>81</td>\n",
       "      <td>2</td>\n",
       "      <td>22</td>\n",
       "    </tr>\n",
       "  </tbody>\n",
       "</table>\n",
       "<p>400 rows × 4 columns</p>\n",
       "</div>"
      ],
      "text/plain": [
       "     Unnamed: 0  ppvt  educ_cat  momage\n",
       "0             1   120         2      21\n",
       "1             2    89         1      17\n",
       "2             3    78         2      19\n",
       "3             4    42         1      20\n",
       "4             5   115         4      26\n",
       "..          ...   ...       ...     ...\n",
       "395         396    87         3      21\n",
       "396         397    69         2      20\n",
       "397         398    80         1      25\n",
       "398         399    98         1      18\n",
       "399         400    81         2      22\n",
       "\n",
       "[400 rows x 4 columns]"
      ]
     },
     "execution_count": 11,
     "metadata": {},
     "output_type": "execute_result"
    }
   ],
   "source": [
    "child_iq"
   ]
  },
  {
   "cell_type": "markdown",
   "id": "18db7b06",
   "metadata": {},
   "source": [
    "# Dropping Serial Number Column"
   ]
  },
  {
   "cell_type": "code",
   "execution_count": 12,
   "id": "e914f92e",
   "metadata": {},
   "outputs": [],
   "source": [
    "kid_iq = kid_iq.drop('Unnamed: 0', axis = 1)"
   ]
  },
  {
   "cell_type": "code",
   "execution_count": 13,
   "id": "eb1bce90",
   "metadata": {},
   "outputs": [],
   "source": [
    "child_iq = child_iq.drop('Unnamed: 0', axis = 1)"
   ]
  },
  {
   "cell_type": "markdown",
   "id": "d8be9ad6",
   "metadata": {},
   "source": [
    "# Exploratory Data Analysis"
   ]
  },
  {
   "cell_type": "markdown",
   "id": "f643dfac",
   "metadata": {},
   "source": [
    "## Shape of Dataset"
   ]
  },
  {
   "cell_type": "code",
   "execution_count": 14,
   "id": "cdf899cb",
   "metadata": {},
   "outputs": [
    {
     "data": {
      "text/plain": [
       "(434, 5)"
      ]
     },
     "execution_count": 14,
     "metadata": {},
     "output_type": "execute_result"
    }
   ],
   "source": [
    "kid_iq.shape"
   ]
  },
  {
   "cell_type": "code",
   "execution_count": 15,
   "id": "9641eda6",
   "metadata": {},
   "outputs": [
    {
     "data": {
      "text/plain": [
       "(400, 3)"
      ]
     },
     "execution_count": 15,
     "metadata": {},
     "output_type": "execute_result"
    }
   ],
   "source": [
    "child_iq.shape"
   ]
  },
  {
   "cell_type": "markdown",
   "id": "3c4806ba",
   "metadata": {},
   "source": [
    "## Obtaining List of Columns in Dataset"
   ]
  },
  {
   "cell_type": "code",
   "execution_count": 16,
   "id": "343e1ae2",
   "metadata": {},
   "outputs": [
    {
     "data": {
      "text/plain": [
       "Index(['kid_score', 'mom_hs', 'mom_iq', 'mom_work', 'mom_age'], dtype='object')"
      ]
     },
     "execution_count": 16,
     "metadata": {},
     "output_type": "execute_result"
    }
   ],
   "source": [
    "kid_iq.columns"
   ]
  },
  {
   "cell_type": "code",
   "execution_count": 17,
   "id": "beed0069",
   "metadata": {},
   "outputs": [
    {
     "data": {
      "text/plain": [
       "Index(['ppvt', 'educ_cat', 'momage'], dtype='object')"
      ]
     },
     "execution_count": 17,
     "metadata": {},
     "output_type": "execute_result"
    }
   ],
   "source": [
    "child_iq.columns"
   ]
  },
  {
   "cell_type": "markdown",
   "id": "9997c654",
   "metadata": {},
   "source": [
    "## Checking Number of Duplicate Records"
   ]
  },
  {
   "cell_type": "code",
   "execution_count": 18,
   "id": "ddd190ac",
   "metadata": {},
   "outputs": [
    {
     "name": "stdout",
     "output_type": "stream",
     "text": [
      "No. of Duplicates in Kid IQ File: 1\n"
     ]
    }
   ],
   "source": [
    "print(\"No. of Duplicates in Kid IQ File: {}\".format(kid_iq.duplicated().sum()))"
   ]
  },
  {
   "cell_type": "code",
   "execution_count": 19,
   "id": "cd971bca",
   "metadata": {},
   "outputs": [
    {
     "name": "stdout",
     "output_type": "stream",
     "text": [
      "No. of Duplicates in Child IQ File: 50\n"
     ]
    }
   ],
   "source": [
    "print(\"No. of Duplicates in Child IQ File: {}\".format(child_iq.duplicated().sum()))"
   ]
  },
  {
   "cell_type": "markdown",
   "id": "d3cd3fc7",
   "metadata": {},
   "source": [
    "## Dropping Duplicates from Dataset"
   ]
  },
  {
   "cell_type": "code",
   "execution_count": 20,
   "id": "9acdcd95",
   "metadata": {},
   "outputs": [],
   "source": [
    "kid_iq = kid_iq.drop_duplicates()"
   ]
  },
  {
   "cell_type": "code",
   "execution_count": 21,
   "id": "8aa2b726",
   "metadata": {},
   "outputs": [
    {
     "name": "stdout",
     "output_type": "stream",
     "text": [
      "No. of Duplicates in Kid IQ File: 0\n"
     ]
    }
   ],
   "source": [
    "print(\"No. of Duplicates in Kid IQ File: {}\".format(kid_iq.duplicated().sum()))"
   ]
  },
  {
   "cell_type": "code",
   "execution_count": 22,
   "id": "ccd3a1ea",
   "metadata": {},
   "outputs": [],
   "source": [
    "child_iq = child_iq.drop_duplicates()"
   ]
  },
  {
   "cell_type": "code",
   "execution_count": 23,
   "id": "359888e0",
   "metadata": {},
   "outputs": [
    {
     "name": "stdout",
     "output_type": "stream",
     "text": [
      "No. of Duplicates in Child IQ File: 0\n"
     ]
    }
   ],
   "source": [
    "print(\"No. of Duplicates in Child IQ File: {}\".format(child_iq.duplicated().sum()))"
   ]
  },
  {
   "cell_type": "markdown",
   "id": "4c5f384b",
   "metadata": {},
   "source": [
    "## Checking for Null Records"
   ]
  },
  {
   "cell_type": "code",
   "execution_count": 24,
   "id": "b5728adf",
   "metadata": {},
   "outputs": [
    {
     "data": {
      "text/plain": [
       "kid_score    0\n",
       "mom_hs       0\n",
       "mom_iq       0\n",
       "mom_work     0\n",
       "mom_age      0\n",
       "dtype: int64"
      ]
     },
     "execution_count": 24,
     "metadata": {},
     "output_type": "execute_result"
    }
   ],
   "source": [
    "kid_iq.isnull().sum()"
   ]
  },
  {
   "cell_type": "code",
   "execution_count": 25,
   "id": "0cf3d1d7",
   "metadata": {},
   "outputs": [
    {
     "data": {
      "text/plain": [
       "ppvt        0\n",
       "educ_cat    0\n",
       "momage      0\n",
       "dtype: int64"
      ]
     },
     "execution_count": 25,
     "metadata": {},
     "output_type": "execute_result"
    }
   ],
   "source": [
    "child_iq.isnull().sum()"
   ]
  },
  {
   "cell_type": "markdown",
   "id": "40d33f60",
   "metadata": {},
   "source": [
    "## Obtaining Basic Information about Dataset"
   ]
  },
  {
   "cell_type": "code",
   "execution_count": 26,
   "id": "d95fa175",
   "metadata": {},
   "outputs": [
    {
     "name": "stdout",
     "output_type": "stream",
     "text": [
      "<class 'pandas.core.frame.DataFrame'>\n",
      "Index: 433 entries, 0 to 433\n",
      "Data columns (total 5 columns):\n",
      " #   Column     Non-Null Count  Dtype  \n",
      "---  ------     --------------  -----  \n",
      " 0   kid_score  433 non-null    int64  \n",
      " 1   mom_hs     433 non-null    int64  \n",
      " 2   mom_iq     433 non-null    float64\n",
      " 3   mom_work   433 non-null    int64  \n",
      " 4   mom_age    433 non-null    int64  \n",
      "dtypes: float64(1), int64(4)\n",
      "memory usage: 20.3 KB\n"
     ]
    }
   ],
   "source": [
    "kid_iq.info()"
   ]
  },
  {
   "cell_type": "code",
   "execution_count": 27,
   "id": "0cae7f7f",
   "metadata": {},
   "outputs": [
    {
     "name": "stdout",
     "output_type": "stream",
     "text": [
      "<class 'pandas.core.frame.DataFrame'>\n",
      "Index: 350 entries, 0 to 399\n",
      "Data columns (total 3 columns):\n",
      " #   Column    Non-Null Count  Dtype\n",
      "---  ------    --------------  -----\n",
      " 0   ppvt      350 non-null    int64\n",
      " 1   educ_cat  350 non-null    int64\n",
      " 2   momage    350 non-null    int64\n",
      "dtypes: int64(3)\n",
      "memory usage: 10.9 KB\n"
     ]
    }
   ],
   "source": [
    "child_iq.info()"
   ]
  },
  {
   "cell_type": "markdown",
   "id": "d5b0a3b4",
   "metadata": {},
   "source": [
    "## Obtaining Basic Statistics about Dataset"
   ]
  },
  {
   "cell_type": "code",
   "execution_count": 28,
   "id": "29282098",
   "metadata": {},
   "outputs": [
    {
     "data": {
      "text/html": [
       "<div>\n",
       "<style scoped>\n",
       "    .dataframe tbody tr th:only-of-type {\n",
       "        vertical-align: middle;\n",
       "    }\n",
       "\n",
       "    .dataframe tbody tr th {\n",
       "        vertical-align: top;\n",
       "    }\n",
       "\n",
       "    .dataframe thead th {\n",
       "        text-align: right;\n",
       "    }\n",
       "</style>\n",
       "<table border=\"1\" class=\"dataframe\">\n",
       "  <thead>\n",
       "    <tr style=\"text-align: right;\">\n",
       "      <th></th>\n",
       "      <th>kid_score</th>\n",
       "      <th>mom_hs</th>\n",
       "      <th>mom_iq</th>\n",
       "      <th>mom_work</th>\n",
       "      <th>mom_age</th>\n",
       "    </tr>\n",
       "  </thead>\n",
       "  <tbody>\n",
       "    <tr>\n",
       "      <th>count</th>\n",
       "      <td>433.000000</td>\n",
       "      <td>433.000000</td>\n",
       "      <td>433.000000</td>\n",
       "      <td>433.000000</td>\n",
       "      <td>433.000000</td>\n",
       "    </tr>\n",
       "    <tr>\n",
       "      <th>mean</th>\n",
       "      <td>86.757506</td>\n",
       "      <td>0.785219</td>\n",
       "      <td>99.943384</td>\n",
       "      <td>2.893764</td>\n",
       "      <td>22.785219</td>\n",
       "    </tr>\n",
       "    <tr>\n",
       "      <th>std</th>\n",
       "      <td>20.417491</td>\n",
       "      <td>0.411145</td>\n",
       "      <td>14.970855</td>\n",
       "      <td>1.181565</td>\n",
       "      <td>2.704174</td>\n",
       "    </tr>\n",
       "    <tr>\n",
       "      <th>min</th>\n",
       "      <td>20.000000</td>\n",
       "      <td>0.000000</td>\n",
       "      <td>71.037405</td>\n",
       "      <td>1.000000</td>\n",
       "      <td>17.000000</td>\n",
       "    </tr>\n",
       "    <tr>\n",
       "      <th>25%</th>\n",
       "      <td>74.000000</td>\n",
       "      <td>1.000000</td>\n",
       "      <td>88.660321</td>\n",
       "      <td>2.000000</td>\n",
       "      <td>21.000000</td>\n",
       "    </tr>\n",
       "    <tr>\n",
       "      <th>50%</th>\n",
       "      <td>90.000000</td>\n",
       "      <td>1.000000</td>\n",
       "      <td>97.915254</td>\n",
       "      <td>3.000000</td>\n",
       "      <td>23.000000</td>\n",
       "    </tr>\n",
       "    <tr>\n",
       "      <th>75%</th>\n",
       "      <td>102.000000</td>\n",
       "      <td>1.000000</td>\n",
       "      <td>110.096806</td>\n",
       "      <td>4.000000</td>\n",
       "      <td>25.000000</td>\n",
       "    </tr>\n",
       "    <tr>\n",
       "      <th>max</th>\n",
       "      <td>144.000000</td>\n",
       "      <td>1.000000</td>\n",
       "      <td>138.893106</td>\n",
       "      <td>4.000000</td>\n",
       "      <td>29.000000</td>\n",
       "    </tr>\n",
       "  </tbody>\n",
       "</table>\n",
       "</div>"
      ],
      "text/plain": [
       "        kid_score      mom_hs      mom_iq    mom_work     mom_age\n",
       "count  433.000000  433.000000  433.000000  433.000000  433.000000\n",
       "mean    86.757506    0.785219   99.943384    2.893764   22.785219\n",
       "std     20.417491    0.411145   14.970855    1.181565    2.704174\n",
       "min     20.000000    0.000000   71.037405    1.000000   17.000000\n",
       "25%     74.000000    1.000000   88.660321    2.000000   21.000000\n",
       "50%     90.000000    1.000000   97.915254    3.000000   23.000000\n",
       "75%    102.000000    1.000000  110.096806    4.000000   25.000000\n",
       "max    144.000000    1.000000  138.893106    4.000000   29.000000"
      ]
     },
     "execution_count": 28,
     "metadata": {},
     "output_type": "execute_result"
    }
   ],
   "source": [
    "kid_iq.describe()"
   ]
  },
  {
   "cell_type": "code",
   "execution_count": 29,
   "id": "81a0b86b",
   "metadata": {},
   "outputs": [
    {
     "data": {
      "text/html": [
       "<div>\n",
       "<style scoped>\n",
       "    .dataframe tbody tr th:only-of-type {\n",
       "        vertical-align: middle;\n",
       "    }\n",
       "\n",
       "    .dataframe tbody tr th {\n",
       "        vertical-align: top;\n",
       "    }\n",
       "\n",
       "    .dataframe thead th {\n",
       "        text-align: right;\n",
       "    }\n",
       "</style>\n",
       "<table border=\"1\" class=\"dataframe\">\n",
       "  <thead>\n",
       "    <tr style=\"text-align: right;\">\n",
       "      <th></th>\n",
       "      <th>ppvt</th>\n",
       "      <th>educ_cat</th>\n",
       "      <th>momage</th>\n",
       "    </tr>\n",
       "  </thead>\n",
       "  <tbody>\n",
       "    <tr>\n",
       "      <th>count</th>\n",
       "      <td>350.000000</td>\n",
       "      <td>350.000000</td>\n",
       "      <td>350.000000</td>\n",
       "    </tr>\n",
       "    <tr>\n",
       "      <th>mean</th>\n",
       "      <td>86.351429</td>\n",
       "      <td>2.128571</td>\n",
       "      <td>22.802857</td>\n",
       "    </tr>\n",
       "    <tr>\n",
       "      <th>std</th>\n",
       "      <td>21.127243</td>\n",
       "      <td>0.855145</td>\n",
       "      <td>2.756289</td>\n",
       "    </tr>\n",
       "    <tr>\n",
       "      <th>min</th>\n",
       "      <td>20.000000</td>\n",
       "      <td>1.000000</td>\n",
       "      <td>17.000000</td>\n",
       "    </tr>\n",
       "    <tr>\n",
       "      <th>25%</th>\n",
       "      <td>73.000000</td>\n",
       "      <td>2.000000</td>\n",
       "      <td>21.000000</td>\n",
       "    </tr>\n",
       "    <tr>\n",
       "      <th>50%</th>\n",
       "      <td>89.000000</td>\n",
       "      <td>2.000000</td>\n",
       "      <td>23.000000</td>\n",
       "    </tr>\n",
       "    <tr>\n",
       "      <th>75%</th>\n",
       "      <td>102.000000</td>\n",
       "      <td>3.000000</td>\n",
       "      <td>25.000000</td>\n",
       "    </tr>\n",
       "    <tr>\n",
       "      <th>max</th>\n",
       "      <td>144.000000</td>\n",
       "      <td>4.000000</td>\n",
       "      <td>29.000000</td>\n",
       "    </tr>\n",
       "  </tbody>\n",
       "</table>\n",
       "</div>"
      ],
      "text/plain": [
       "             ppvt    educ_cat      momage\n",
       "count  350.000000  350.000000  350.000000\n",
       "mean    86.351429    2.128571   22.802857\n",
       "std     21.127243    0.855145    2.756289\n",
       "min     20.000000    1.000000   17.000000\n",
       "25%     73.000000    2.000000   21.000000\n",
       "50%     89.000000    2.000000   23.000000\n",
       "75%    102.000000    3.000000   25.000000\n",
       "max    144.000000    4.000000   29.000000"
      ]
     },
     "execution_count": 29,
     "metadata": {},
     "output_type": "execute_result"
    }
   ],
   "source": [
    "child_iq.describe()"
   ]
  },
  {
   "cell_type": "markdown",
   "id": "d27a5255",
   "metadata": {},
   "source": [
    "## Checking for Unique values in Dataset"
   ]
  },
  {
   "cell_type": "code",
   "execution_count": 30,
   "id": "90547a35",
   "metadata": {},
   "outputs": [
    {
     "data": {
      "text/plain": [
       "kid_score     85\n",
       "mom_hs         2\n",
       "mom_iq       332\n",
       "mom_work       4\n",
       "mom_age       13\n",
       "dtype: int64"
      ]
     },
     "execution_count": 30,
     "metadata": {},
     "output_type": "execute_result"
    }
   ],
   "source": [
    "kid_iq.nunique()"
   ]
  },
  {
   "cell_type": "code",
   "execution_count": 31,
   "id": "41c5c765",
   "metadata": {},
   "outputs": [
    {
     "data": {
      "text/plain": [
       "ppvt        84\n",
       "educ_cat     4\n",
       "momage      13\n",
       "dtype: int64"
      ]
     },
     "execution_count": 31,
     "metadata": {},
     "output_type": "execute_result"
    }
   ],
   "source": [
    "child_iq.nunique()"
   ]
  },
  {
   "cell_type": "markdown",
   "id": "350f06cf",
   "metadata": {},
   "source": [
    "# Distribution of Variables"
   ]
  },
  {
   "cell_type": "markdown",
   "id": "ca670d97",
   "metadata": {},
   "source": [
    "## Dataset 1 - kid_iq"
   ]
  },
  {
   "cell_type": "code",
   "execution_count": 32,
   "id": "434ff9ae",
   "metadata": {},
   "outputs": [],
   "source": [
    "discrete_variables = []\n",
    "continuous_variables = []"
   ]
  },
  {
   "cell_type": "code",
   "execution_count": 33,
   "id": "57379e83",
   "metadata": {},
   "outputs": [],
   "source": [
    "for column in kid_iq.columns:\n",
    "    unique_values = kid_iq[column].nunique()\n",
    "    total_values = kid_iq.shape[0]\n",
    "    if(((unique_values/total_values)<0.05) or (unique_values<10)):\n",
    "        discrete_variables.append(column)\n",
    "    else:\n",
    "        continuous_variables.append(column)"
   ]
  },
  {
   "cell_type": "code",
   "execution_count": 34,
   "id": "da67aa6d",
   "metadata": {},
   "outputs": [
    {
     "name": "stdout",
     "output_type": "stream",
     "text": [
      "List of Discrete Variables: ['mom_hs', 'mom_work', 'mom_age']\n",
      "List of Continuous Variables: ['kid_score', 'mom_iq']\n"
     ]
    }
   ],
   "source": [
    "print(\"List of Discrete Variables: {}\".format(discrete_variables))\n",
    "print(\"List of Continuous Variables: {}\".format(continuous_variables))"
   ]
  },
  {
   "cell_type": "code",
   "execution_count": 35,
   "id": "0c0eafae",
   "metadata": {
    "scrolled": false
   },
   "outputs": [
    {
     "data": {
      "image/png": "[encoded data removed]",
      "text/plain": [
       "<Figure size 800x600 with 1 Axes>"
      ]
     },
     "metadata": {},
     "output_type": "display_data"
    },
    {
     "data": {
      "image/png": "[encoded data removed]",
      "text/plain": [
       "<Figure size 800x600 with 1 Axes>"
      ]
     },
     "metadata": {},
     "output_type": "display_data"
    },
    {
     "data": {
      "image/png": "[encoded data removed]",
      "text/plain": [
       "<Figure size 800x600 with 1 Axes>"
      ]
     },
     "metadata": {},
     "output_type": "display_data"
    }
   ],
   "source": [
    "for var in discrete_variables:\n",
    "    plt.figure(figsize = (8,6))\n",
    "    sns.countplot(x = var, data = kid_iq)\n",
    "    plt.title(f'Distribution of {var}')\n",
    "    plt.xlabel(var)\n",
    "    plt.ylabel('Count')\n",
    "    plt.show()"
   ]
  },
  {
   "cell_type": "code",
   "execution_count": 39,
   "id": "868eb4e1",
   "metadata": {},
   "outputs": [
    {
     "data": {
      "image/png": "[encoded data removed]",
      "text/plain": [
       "<Figure size 800x600 with 1 Axes>"
      ]
     },
     "metadata": {},
     "output_type": "display_data"
    },
    {
     "data": {
      "image/png": "[encoded data removed]",
      "text/plain": [
       "<Figure size 800x600 with 1 Axes>"
      ]
     },
     "metadata": {},
     "output_type": "display_data"
    }
   ],
   "source": [
    "for var in continuous_variables:\n",
    "    plt.figure(figsize=(8,6))\n",
    "    sns.histplot(kid_iq[var], kde=True)\n",
    "    plt.title(f'Distribution of {var}')\n",
    "    plt.xlabel(var)\n",
    "    plt.ylabel('Frequency')\n",
    "    plt.show()"
   ]
  },
  {
   "cell_type": "markdown",
   "id": "27a379ee",
   "metadata": {},
   "source": [
    "## Dataset 2 - Child_iq"
   ]
  },
  {
   "cell_type": "code",
   "execution_count": null,
   "id": "bfbddfe5",
   "metadata": {},
   "outputs": [],
   "source": []
  }
 ],
 "metadata": {
  "kernelspec": {
   "display_name": "Python 3 (ipykernel)",
   "language": "python",
   "name": "python3"
  },
  "language_info": {
   "codemirror_mode": {
    "name": "ipython",
    "version": 3
   },
   "file_extension": ".py",
   "mimetype": "text/x-python",
   "name": "python",
   "nbconvert_exporter": "python",
   "pygments_lexer": "ipython3",
   "version": "3.11.5"
  }
 },
 "nbformat": 4,
 "nbformat_minor": 5
}
